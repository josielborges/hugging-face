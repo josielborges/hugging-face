{
 "cells": [
  {
   "cell_type": "markdown",
   "id": "72df4eb1",
   "metadata": {},
   "source": [
    "## Sentiment Analisys"
   ]
  },
  {
   "cell_type": "code",
   "execution_count": 1,
   "id": "c5dd69f6",
   "metadata": {},
   "outputs": [
    {
     "name": "stderr",
     "output_type": "stream",
     "text": [
      "/home/josiel/dev/work/python/hugging-face/.venv/lib/python3.12/site-packages/tqdm/auto.py:21: TqdmWarning: IProgress not found. Please update jupyter and ipywidgets. See https://ipywidgets.readthedocs.io/en/stable/user_install.html\n",
      "  from .autonotebook import tqdm as notebook_tqdm\n"
     ]
    }
   ],
   "source": [
    "from transformers import pipeline"
   ]
  },
  {
   "cell_type": "code",
   "execution_count": 3,
   "id": "79732197",
   "metadata": {},
   "outputs": [
    {
     "name": "stderr",
     "output_type": "stream",
     "text": [
      "Device set to use cuda:0\n"
     ]
    }
   ],
   "source": [
    "sentiment_classifier = pipeline(\"sentiment-analysis\", model=\"distilbert-base-uncased-finetuned-sst-2-english\")"
   ]
  },
  {
   "cell_type": "code",
   "execution_count": 11,
   "id": "16b98624",
   "metadata": {},
   "outputs": [
    {
     "data": {
      "text/plain": [
       "[{'label': 'POSITIVE', 'score': 0.9998855590820312}]"
      ]
     },
     "execution_count": 11,
     "metadata": {},
     "output_type": "execute_result"
    }
   ],
   "source": [
    "sentiment_classifier(\"I love this product!\")"
   ]
  },
  {
   "cell_type": "code",
   "execution_count": 14,
   "id": "4a80991d",
   "metadata": {},
   "outputs": [
    {
     "name": "stderr",
     "output_type": "stream",
     "text": [
      "You seem to be using the pipelines sequentially on GPU. In order to maximize efficiency please use a dataset\n"
     ]
    },
    {
     "data": {
      "text/plain": [
       "[{'label': 'NEGATIVE', 'score': 0.9917929768562317}]"
      ]
     },
     "execution_count": 14,
     "metadata": {},
     "output_type": "execute_result"
    }
   ],
   "source": [
    "sentiment_classifier(\"This product sucks, but worked for me.\")"
   ]
  },
  {
   "cell_type": "markdown",
   "id": "4cb61745",
   "metadata": {},
   "source": [
    "## Sentiment analysis in PT-BR"
   ]
  },
  {
   "cell_type": "code",
   "execution_count": 1,
   "id": "f1ae9e7e",
   "metadata": {},
   "outputs": [],
   "source": [
    "from pysentimiento import create_analyzer"
   ]
  },
  {
   "cell_type": "code",
   "execution_count": 2,
   "id": "324f0438",
   "metadata": {},
   "outputs": [],
   "source": [
    "sentiment_analyzer_model = create_analyzer(task=\"sentiment\", lang=\"pt\")"
   ]
  },
  {
   "cell_type": "code",
   "execution_count": 5,
   "id": "ea52c1a0",
   "metadata": {},
   "outputs": [
    {
     "data": {
      "text/plain": [
       "AnalyzerOutput(output=POS, probas={POS: 0.943, NEU: 0.048, NEG: 0.009})"
      ]
     },
     "execution_count": 5,
     "metadata": {},
     "output_type": "execute_result"
    }
   ],
   "source": [
    "sentiment_analyzer_model.predict(\"O teste me pareceu ok, apesar de duas não chegarem no valor nominal de 2600mah. Após instalado, utilizei o aspirador por 35 min na maior velocidade. Fiquei satisfeitíssimo. Recomendo.\")"
   ]
  },
  {
   "cell_type": "code",
   "execution_count": 9,
   "id": "cfa77019",
   "metadata": {},
   "outputs": [
    {
     "data": {
      "text/plain": [
       "AnalyzerOutput(output=NEG, probas={NEG: 0.981, POS: 0.010, NEU: 0.008})"
      ]
     },
     "execution_count": 9,
     "metadata": {},
     "output_type": "execute_result"
    }
   ],
   "source": [
    "sentiment_analyzer_model.predict('''Olá boa tarde comprei essa furadeira mais essas brocas são muito fracas eu fui usar hoje e 2 delas já empenaram na parede normal. \n",
    "                                    Que isso deu até tristeza. Essas buchas também meu deus a minhas aqui são muito mais grossas. \n",
    "                                    Se eu soubesse tinha comprado só a furadeira paguei mais caro pelo kit e me arrependido com o material do kit. 😭😭😭.''')"
   ]
  },
  {
   "cell_type": "code",
   "execution_count": 12,
   "id": "d4e1ee8c",
   "metadata": {},
   "outputs": [
    {
     "data": {
      "text/plain": [
       "AnalyzerOutput(output=NEU, probas={NEU: 0.523, NEG: 0.429, POS: 0.049})"
      ]
     },
     "execution_count": 12,
     "metadata": {},
     "output_type": "execute_result"
    }
   ],
   "source": [
    "sentiment_analyzer_model.predict('''Acabei devolvendo, achei muito pequena.''')"
   ]
  },
  {
   "cell_type": "markdown",
   "id": "1f711605",
   "metadata": {},
   "source": [
    "## Sentiment analysis in a CSV file"
   ]
  },
  {
   "cell_type": "code",
   "execution_count": 13,
   "id": "de104e77",
   "metadata": {},
   "outputs": [],
   "source": [
    "import pandas as pd"
   ]
  },
  {
   "cell_type": "code",
   "execution_count": 17,
   "id": "2705c409",
   "metadata": {},
   "outputs": [
    {
     "data": {
      "text/html": [
       "<div>\n",
       "<style scoped>\n",
       "    .dataframe tbody tr th:only-of-type {\n",
       "        vertical-align: middle;\n",
       "    }\n",
       "\n",
       "    .dataframe tbody tr th {\n",
       "        vertical-align: top;\n",
       "    }\n",
       "\n",
       "    .dataframe thead th {\n",
       "        text-align: right;\n",
       "    }\n",
       "</style>\n",
       "<table border=\"1\" class=\"dataframe\">\n",
       "  <thead>\n",
       "    <tr style=\"text-align: right;\">\n",
       "      <th></th>\n",
       "      <th>ID</th>\n",
       "      <th>Review</th>\n",
       "    </tr>\n",
       "  </thead>\n",
       "  <tbody>\n",
       "    <tr>\n",
       "      <th>0</th>\n",
       "      <td>24</td>\n",
       "      <td>A fritadeira é sensacional, muito além do que ...</td>\n",
       "    </tr>\n",
       "    <tr>\n",
       "      <th>1</th>\n",
       "      <td>733</td>\n",
       "      <td>Após usar o produto, achei-o fácil e muito efi...</td>\n",
       "    </tr>\n",
       "    <tr>\n",
       "      <th>2</th>\n",
       "      <td>865</td>\n",
       "      <td>Muito funcional, prática e moderna.</td>\n",
       "    </tr>\n",
       "    <tr>\n",
       "      <th>3</th>\n",
       "      <td>809</td>\n",
       "      <td>Boa, mas não das melhores pois a frente de vid...</td>\n",
       "    </tr>\n",
       "    <tr>\n",
       "      <th>4</th>\n",
       "      <td>628</td>\n",
       "      <td>Eu comecei a usar e é bem espaçosa. Gostei poi...</td>\n",
       "    </tr>\n",
       "  </tbody>\n",
       "</table>\n",
       "</div>"
      ],
      "text/plain": [
       "    ID                                             Review\n",
       "0   24  A fritadeira é sensacional, muito além do que ...\n",
       "1  733  Após usar o produto, achei-o fácil e muito efi...\n",
       "2  865                Muito funcional, prática e moderna.\n",
       "3  809  Boa, mas não das melhores pois a frente de vid...\n",
       "4  628  Eu comecei a usar e é bem espaçosa. Gostei poi..."
      ]
     },
     "execution_count": 17,
     "metadata": {},
     "output_type": "execute_result"
    }
   ],
   "source": [
    "df = pd.read_csv(\"data/pt-reviews.csv\")\n",
    "df.head(5)\n"
   ]
  },
  {
   "cell_type": "code",
   "execution_count": 19,
   "id": "749ce97c",
   "metadata": {},
   "outputs": [
    {
     "name": "stderr",
     "output_type": "stream",
     "text": [
      "Map: 100%|██████████| 36/36 [00:00<00:00, 2640.97 examples/s]\n"
     ]
    },
    {
     "data": {
      "text/plain": [
       "[AnalyzerOutput(output=POS, probas={POS: 0.989, NEU: 0.009, NEG: 0.002}),\n",
       " AnalyzerOutput(output=POS, probas={POS: 0.670, NEU: 0.320, NEG: 0.011}),\n",
       " AnalyzerOutput(output=POS, probas={POS: 0.900, NEU: 0.097, NEG: 0.003}),\n",
       " AnalyzerOutput(output=NEG, probas={NEG: 0.731, NEU: 0.259, POS: 0.010}),\n",
       " AnalyzerOutput(output=POS, probas={POS: 0.976, NEU: 0.021, NEG: 0.003}),\n",
       " AnalyzerOutput(output=POS, probas={POS: 0.956, NEU: 0.037, NEG: 0.007}),\n",
       " AnalyzerOutput(output=POS, probas={POS: 0.838, NEU: 0.093, NEG: 0.069}),\n",
       " AnalyzerOutput(output=POS, probas={POS: 0.990, NEU: 0.008, NEG: 0.002}),\n",
       " AnalyzerOutput(output=POS, probas={POS: 0.961, NEU: 0.036, NEG: 0.003}),\n",
       " AnalyzerOutput(output=POS, probas={POS: 0.990, NEU: 0.007, NEG: 0.003}),\n",
       " AnalyzerOutput(output=NEG, probas={NEG: 0.896, NEU: 0.100, POS: 0.004}),\n",
       " AnalyzerOutput(output=NEG, probas={NEG: 0.990, NEU: 0.008, POS: 0.003}),\n",
       " AnalyzerOutput(output=NEG, probas={NEG: 0.985, NEU: 0.011, POS: 0.003}),\n",
       " AnalyzerOutput(output=NEU, probas={NEU: 0.599, POS: 0.247, NEG: 0.154}),\n",
       " AnalyzerOutput(output=NEG, probas={NEG: 0.988, NEU: 0.008, POS: 0.004}),\n",
       " AnalyzerOutput(output=NEG, probas={NEG: 0.841, NEU: 0.143, POS: 0.016}),\n",
       " AnalyzerOutput(output=NEG, probas={NEG: 0.991, NEU: 0.007, POS: 0.002}),\n",
       " AnalyzerOutput(output=NEU, probas={NEU: 0.518, POS: 0.306, NEG: 0.176}),\n",
       " AnalyzerOutput(output=NEG, probas={NEG: 0.907, NEU: 0.085, POS: 0.008}),\n",
       " AnalyzerOutput(output=NEG, probas={NEG: 0.963, NEU: 0.031, POS: 0.006}),\n",
       " AnalyzerOutput(output=NEU, probas={NEU: 0.723, NEG: 0.251, POS: 0.026}),\n",
       " AnalyzerOutput(output=NEG, probas={NEG: 0.984, NEU: 0.009, POS: 0.007}),\n",
       " AnalyzerOutput(output=NEG, probas={NEG: 0.520, POS: 0.370, NEU: 0.110}),\n",
       " AnalyzerOutput(output=NEG, probas={NEG: 0.988, NEU: 0.008, POS: 0.004}),\n",
       " AnalyzerOutput(output=NEG, probas={NEG: 0.993, NEU: 0.004, POS: 0.003}),\n",
       " AnalyzerOutput(output=NEG, probas={NEG: 0.993, NEU: 0.004, POS: 0.003}),\n",
       " AnalyzerOutput(output=NEG, probas={NEG: 0.992, NEU: 0.005, POS: 0.003}),\n",
       " AnalyzerOutput(output=NEG, probas={NEG: 0.868, NEU: 0.120, POS: 0.013}),\n",
       " AnalyzerOutput(output=NEG, probas={NEG: 0.968, NEU: 0.027, POS: 0.005}),\n",
       " AnalyzerOutput(output=NEG, probas={NEG: 0.715, POS: 0.163, NEU: 0.122}),\n",
       " AnalyzerOutput(output=NEG, probas={NEG: 0.969, POS: 0.019, NEU: 0.013}),\n",
       " AnalyzerOutput(output=POS, probas={POS: 0.987, NEU: 0.011, NEG: 0.002}),\n",
       " AnalyzerOutput(output=POS, probas={POS: 0.845, NEU: 0.081, NEG: 0.073}),\n",
       " AnalyzerOutput(output=NEU, probas={NEU: 0.656, NEG: 0.332, POS: 0.013}),\n",
       " AnalyzerOutput(output=POS, probas={POS: 0.885, NEU: 0.105, NEG: 0.011}),\n",
       " AnalyzerOutput(output=POS, probas={POS: 0.993, NEU: 0.006, NEG: 0.002})]"
      ]
     },
     "execution_count": 19,
     "metadata": {},
     "output_type": "execute_result"
    }
   ],
   "source": [
    "predictions = sentiment_analyzer_model.predict(df[\"Review\"])\n",
    "predictions"
   ]
  },
  {
   "cell_type": "code",
   "execution_count": 22,
   "id": "fdb398ae",
   "metadata": {},
   "outputs": [
    {
     "data": {
      "text/plain": [
       "['POS',\n",
       " 'POS',\n",
       " 'POS',\n",
       " 'NEG',\n",
       " 'POS',\n",
       " 'POS',\n",
       " 'POS',\n",
       " 'POS',\n",
       " 'POS',\n",
       " 'POS',\n",
       " 'NEG',\n",
       " 'NEG',\n",
       " 'NEG',\n",
       " 'NEU',\n",
       " 'NEG',\n",
       " 'NEG',\n",
       " 'NEG',\n",
       " 'NEU',\n",
       " 'NEG',\n",
       " 'NEG',\n",
       " 'NEU',\n",
       " 'NEG',\n",
       " 'NEG',\n",
       " 'NEG',\n",
       " 'NEG',\n",
       " 'NEG',\n",
       " 'NEG',\n",
       " 'NEG',\n",
       " 'NEG',\n",
       " 'NEG',\n",
       " 'NEG',\n",
       " 'POS',\n",
       " 'POS',\n",
       " 'NEU',\n",
       " 'POS',\n",
       " 'POS']"
      ]
     },
     "execution_count": 22,
     "metadata": {},
     "output_type": "execute_result"
    }
   ],
   "source": [
    "sentiments = []\n",
    "\n",
    "for prediction in predictions:\n",
    "    sentiments.append(prediction.output)\n",
    "\n",
    "sentiments"
   ]
  },
  {
   "cell_type": "code",
   "execution_count": 26,
   "id": "48c8d4ef",
   "metadata": {},
   "outputs": [
    {
     "data": {
      "text/html": [
       "<div>\n",
       "<style scoped>\n",
       "    .dataframe tbody tr th:only-of-type {\n",
       "        vertical-align: middle;\n",
       "    }\n",
       "\n",
       "    .dataframe tbody tr th {\n",
       "        vertical-align: top;\n",
       "    }\n",
       "\n",
       "    .dataframe thead th {\n",
       "        text-align: right;\n",
       "    }\n",
       "</style>\n",
       "<table border=\"1\" class=\"dataframe\">\n",
       "  <thead>\n",
       "    <tr style=\"text-align: right;\">\n",
       "      <th></th>\n",
       "      <th>ID</th>\n",
       "      <th>Review</th>\n",
       "      <th>Sentiment</th>\n",
       "    </tr>\n",
       "  </thead>\n",
       "  <tbody>\n",
       "    <tr>\n",
       "      <th>0</th>\n",
       "      <td>24</td>\n",
       "      <td>A fritadeira é sensacional, muito além do que ...</td>\n",
       "      <td>POS</td>\n",
       "    </tr>\n",
       "    <tr>\n",
       "      <th>1</th>\n",
       "      <td>733</td>\n",
       "      <td>Após usar o produto, achei-o fácil e muito efi...</td>\n",
       "      <td>POS</td>\n",
       "    </tr>\n",
       "    <tr>\n",
       "      <th>2</th>\n",
       "      <td>865</td>\n",
       "      <td>Muito funcional, prática e moderna.</td>\n",
       "      <td>POS</td>\n",
       "    </tr>\n",
       "    <tr>\n",
       "      <th>3</th>\n",
       "      <td>809</td>\n",
       "      <td>Boa, mas não das melhores pois a frente de vid...</td>\n",
       "      <td>NEG</td>\n",
       "    </tr>\n",
       "    <tr>\n",
       "      <th>4</th>\n",
       "      <td>628</td>\n",
       "      <td>Eu comecei a usar e é bem espaçosa. Gostei poi...</td>\n",
       "      <td>POS</td>\n",
       "    </tr>\n",
       "    <tr>\n",
       "      <th>5</th>\n",
       "      <td>657</td>\n",
       "      <td>Usei ela algumas vezes já, muito silenciosa, l...</td>\n",
       "      <td>POS</td>\n",
       "    </tr>\n",
       "    <tr>\n",
       "      <th>6</th>\n",
       "      <td>182</td>\n",
       "      <td>Superou minhas expectativas, por enquanto tudo...</td>\n",
       "      <td>POS</td>\n",
       "    </tr>\n",
       "    <tr>\n",
       "      <th>7</th>\n",
       "      <td>815</td>\n",
       "      <td>Chegou no prazo. Amei, é muito linda. Não vejo...</td>\n",
       "      <td>POS</td>\n",
       "    </tr>\n",
       "    <tr>\n",
       "      <th>8</th>\n",
       "      <td>343</td>\n",
       "      <td>Estou muito satisfeito com a negociação, receb...</td>\n",
       "      <td>POS</td>\n",
       "    </tr>\n",
       "    <tr>\n",
       "      <th>9</th>\n",
       "      <td>624</td>\n",
       "      <td>Lindaaaa amei super indico</td>\n",
       "      <td>POS</td>\n",
       "    </tr>\n",
       "    <tr>\n",
       "      <th>10</th>\n",
       "      <td>365</td>\n",
       "      <td>A fritadeira é ok, mas desde os primeiros dias...</td>\n",
       "      <td>NEG</td>\n",
       "    </tr>\n",
       "    <tr>\n",
       "      <th>11</th>\n",
       "      <td>543</td>\n",
       "      <td>O produto em si é bom, porém oxida, infelizmen...</td>\n",
       "      <td>NEG</td>\n",
       "    </tr>\n",
       "    <tr>\n",
       "      <th>12</th>\n",
       "      <td>62</td>\n",
       "      <td>Infelizmente começa a enferrujar do nada. pelo...</td>\n",
       "      <td>NEG</td>\n",
       "    </tr>\n",
       "    <tr>\n",
       "      <th>13</th>\n",
       "      <td>690</td>\n",
       "      <td>Beleza, mas não muito eficaz como na propaganda</td>\n",
       "      <td>NEU</td>\n",
       "    </tr>\n",
       "    <tr>\n",
       "      <th>14</th>\n",
       "      <td>909</td>\n",
       "      <td>Comprei o produto de uma marca mais confiável,...</td>\n",
       "      <td>NEG</td>\n",
       "    </tr>\n",
       "    <tr>\n",
       "      <th>15</th>\n",
       "      <td>766</td>\n",
       "      <td>Com 5 meses de uso percebi que tinha locais en...</td>\n",
       "      <td>NEG</td>\n",
       "    </tr>\n",
       "    <tr>\n",
       "      <th>16</th>\n",
       "      <td>614</td>\n",
       "      <td>Horrível! Começou a enferrujar a parte externa...</td>\n",
       "      <td>NEG</td>\n",
       "    </tr>\n",
       "    <tr>\n",
       "      <th>17</th>\n",
       "      <td>452</td>\n",
       "      <td>Gostei, só que não está com 3 meses e ela já e...</td>\n",
       "      <td>NEU</td>\n",
       "    </tr>\n",
       "    <tr>\n",
       "      <th>18</th>\n",
       "      <td>735</td>\n",
       "      <td>Além de enferrujar, estourou o vidro do nada</td>\n",
       "      <td>NEG</td>\n",
       "    </tr>\n",
       "    <tr>\n",
       "      <th>19</th>\n",
       "      <td>135</td>\n",
       "      <td>O aparelho é bom e funciona bem, mas o acabame...</td>\n",
       "      <td>NEG</td>\n",
       "    </tr>\n",
       "  </tbody>\n",
       "</table>\n",
       "</div>"
      ],
      "text/plain": [
       "     ID                                             Review Sentiment\n",
       "0    24  A fritadeira é sensacional, muito além do que ...       POS\n",
       "1   733  Após usar o produto, achei-o fácil e muito efi...       POS\n",
       "2   865                Muito funcional, prática e moderna.       POS\n",
       "3   809  Boa, mas não das melhores pois a frente de vid...       NEG\n",
       "4   628  Eu comecei a usar e é bem espaçosa. Gostei poi...       POS\n",
       "5   657  Usei ela algumas vezes já, muito silenciosa, l...       POS\n",
       "6   182  Superou minhas expectativas, por enquanto tudo...       POS\n",
       "7   815  Chegou no prazo. Amei, é muito linda. Não vejo...       POS\n",
       "8   343  Estou muito satisfeito com a negociação, receb...       POS\n",
       "9   624                         Lindaaaa amei super indico       POS\n",
       "10  365  A fritadeira é ok, mas desde os primeiros dias...       NEG\n",
       "11  543  O produto em si é bom, porém oxida, infelizmen...       NEG\n",
       "12   62  Infelizmente começa a enferrujar do nada. pelo...       NEG\n",
       "13  690    Beleza, mas não muito eficaz como na propaganda       NEU\n",
       "14  909  Comprei o produto de uma marca mais confiável,...       NEG\n",
       "15  766  Com 5 meses de uso percebi que tinha locais en...       NEG\n",
       "16  614  Horrível! Começou a enferrujar a parte externa...       NEG\n",
       "17  452  Gostei, só que não está com 3 meses e ela já e...       NEU\n",
       "18  735       Além de enferrujar, estourou o vidro do nada       NEG\n",
       "19  135  O aparelho é bom e funciona bem, mas o acabame...       NEG"
      ]
     },
     "execution_count": 26,
     "metadata": {},
     "output_type": "execute_result"
    }
   ],
   "source": [
    "df[\"Sentiment\"] = sentiments\n",
    "df.head(20)"
   ]
  }
 ],
 "metadata": {
  "kernelspec": {
   "display_name": ".venv",
   "language": "python",
   "name": "python3"
  },
  "language_info": {
   "codemirror_mode": {
    "name": "ipython",
    "version": 3
   },
   "file_extension": ".py",
   "mimetype": "text/x-python",
   "name": "python",
   "nbconvert_exporter": "python",
   "pygments_lexer": "ipython3",
   "version": "3.12.3"
  }
 },
 "nbformat": 4,
 "nbformat_minor": 5
}
