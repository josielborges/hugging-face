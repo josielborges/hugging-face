{
 "cells": [
  {
   "cell_type": "code",
   "execution_count": 1,
   "id": "c5dd69f6",
   "metadata": {},
   "outputs": [
    {
     "name": "stderr",
     "output_type": "stream",
     "text": [
      "/home/josiel/dev/work/python/hugging-face/.venv/lib/python3.12/site-packages/tqdm/auto.py:21: TqdmWarning: IProgress not found. Please update jupyter and ipywidgets. See https://ipywidgets.readthedocs.io/en/stable/user_install.html\n",
      "  from .autonotebook import tqdm as notebook_tqdm\n"
     ]
    }
   ],
   "source": [
    "from transformers import pipeline"
   ]
  },
  {
   "cell_type": "code",
   "execution_count": 3,
   "id": "79732197",
   "metadata": {},
   "outputs": [
    {
     "name": "stderr",
     "output_type": "stream",
     "text": [
      "Device set to use cuda:0\n"
     ]
    }
   ],
   "source": [
    "sentiment_classifier = pipeline(\"sentiment-analysis\", model=\"distilbert-base-uncased-finetuned-sst-2-english\")"
   ]
  },
  {
   "cell_type": "code",
   "execution_count": 11,
   "id": "16b98624",
   "metadata": {},
   "outputs": [
    {
     "data": {
      "text/plain": [
       "[{'label': 'POSITIVE', 'score': 0.9998855590820312}]"
      ]
     },
     "execution_count": 11,
     "metadata": {},
     "output_type": "execute_result"
    }
   ],
   "source": [
    "sentiment_classifier(\"I love this product!\")"
   ]
  },
  {
   "cell_type": "code",
   "execution_count": 14,
   "id": "4a80991d",
   "metadata": {},
   "outputs": [
    {
     "name": "stderr",
     "output_type": "stream",
     "text": [
      "You seem to be using the pipelines sequentially on GPU. In order to maximize efficiency please use a dataset\n"
     ]
    },
    {
     "data": {
      "text/plain": [
       "[{'label': 'NEGATIVE', 'score': 0.9917929768562317}]"
      ]
     },
     "execution_count": 14,
     "metadata": {},
     "output_type": "execute_result"
    }
   ],
   "source": [
    "sentiment_classifier(\"This product sucks, but worked for me.\")"
   ]
  },
  {
   "cell_type": "markdown",
   "id": "4cb61745",
   "metadata": {},
   "source": [
    "## Sentiment analysis in PT-BR"
   ]
  },
  {
   "cell_type": "code",
   "execution_count": 1,
   "id": "f1ae9e7e",
   "metadata": {},
   "outputs": [],
   "source": [
    "from pysentimiento import create_analyzer"
   ]
  },
  {
   "cell_type": "code",
   "execution_count": 2,
   "id": "324f0438",
   "metadata": {},
   "outputs": [],
   "source": [
    "sentiment_analyzer_model = create_analyzer(task=\"sentiment\", lang=\"pt\")"
   ]
  },
  {
   "cell_type": "code",
   "execution_count": 5,
   "id": "ea52c1a0",
   "metadata": {},
   "outputs": [
    {
     "data": {
      "text/plain": [
       "AnalyzerOutput(output=POS, probas={POS: 0.943, NEU: 0.048, NEG: 0.009})"
      ]
     },
     "execution_count": 5,
     "metadata": {},
     "output_type": "execute_result"
    }
   ],
   "source": [
    "sentiment_analyzer_model.predict(\"O teste me pareceu ok, apesar de duas não chegarem no valor nominal de 2600mah. Após instalado, utilizei o aspirador por 35 min na maior velocidade. Fiquei satisfeitíssimo. Recomendo.\")"
   ]
  },
  {
   "cell_type": "code",
   "execution_count": 9,
   "id": "cfa77019",
   "metadata": {},
   "outputs": [
    {
     "data": {
      "text/plain": [
       "AnalyzerOutput(output=NEG, probas={NEG: 0.981, POS: 0.010, NEU: 0.008})"
      ]
     },
     "execution_count": 9,
     "metadata": {},
     "output_type": "execute_result"
    }
   ],
   "source": [
    "sentiment_analyzer_model.predict('''Olá boa tarde comprei essa furadeira mais essas brocas são muito fracas eu fui usar hoje e 2 delas já empenaram na parede normal. \n",
    "                                    Que isso deu até tristeza. Essas buchas também meu deus a minhas aqui são muito mais grossas. \n",
    "                                    Se eu soubesse tinha comprado só a furadeira paguei mais caro pelo kit e me arrependido com o material do kit. 😭😭😭.''')"
   ]
  },
  {
   "cell_type": "code",
   "execution_count": 12,
   "id": "d4e1ee8c",
   "metadata": {},
   "outputs": [
    {
     "data": {
      "text/plain": [
       "AnalyzerOutput(output=NEU, probas={NEU: 0.523, NEG: 0.429, POS: 0.049})"
      ]
     },
     "execution_count": 12,
     "metadata": {},
     "output_type": "execute_result"
    }
   ],
   "source": [
    "sentiment_analyzer_model.predict('''Acabei devolvendo, achei muito pequena.''')"
   ]
  }
 ],
 "metadata": {
  "kernelspec": {
   "display_name": ".venv",
   "language": "python",
   "name": "python3"
  },
  "language_info": {
   "codemirror_mode": {
    "name": "ipython",
    "version": 3
   },
   "file_extension": ".py",
   "mimetype": "text/x-python",
   "name": "python",
   "nbconvert_exporter": "python",
   "pygments_lexer": "ipython3",
   "version": "3.12.3"
  }
 },
 "nbformat": 4,
 "nbformat_minor": 5
}
